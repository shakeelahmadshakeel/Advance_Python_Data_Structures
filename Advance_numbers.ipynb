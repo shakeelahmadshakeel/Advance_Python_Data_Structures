{
 "cells": [
  {
   "cell_type": "code",
   "execution_count": 2,
   "id": "7c1954ed",
   "metadata": {},
   "outputs": [
    {
     "data": {
      "text/plain": [
       "'0x5ad'"
      ]
     },
     "execution_count": 2,
     "metadata": {},
     "output_type": "execute_result"
    }
   ],
   "source": [
    "hex(1453)"
   ]
  },
  {
   "cell_type": "code",
   "execution_count": 3,
   "id": "9a57ed40",
   "metadata": {},
   "outputs": [
    {
     "data": {
      "text/plain": [
       "'0o2655'"
      ]
     },
     "execution_count": 3,
     "metadata": {},
     "output_type": "execute_result"
    }
   ],
   "source": [
    "oct(1453)"
   ]
  },
  {
   "cell_type": "code",
   "execution_count": 37,
   "id": "1e744bd5",
   "metadata": {},
   "outputs": [
    {
     "data": {
      "text/plain": [
       "'0b10110101101'"
      ]
     },
     "execution_count": 37,
     "metadata": {},
     "output_type": "execute_result"
    }
   ],
   "source": [
    "bin(1453)"
   ]
  },
  {
   "cell_type": "code",
   "execution_count": 9,
   "id": "8346a115",
   "metadata": {},
   "outputs": [
    {
     "data": {
      "text/plain": [
       "'10110101101'"
      ]
     },
     "execution_count": 9,
     "metadata": {},
     "output_type": "execute_result"
    }
   ],
   "source": [
    "bin(1453)[2:]"
   ]
  },
  {
   "cell_type": "code",
   "execution_count": 32,
   "id": "fdb0599c",
   "metadata": {},
   "outputs": [
    {
     "name": "stdout",
     "output_type": "stream",
     "text": [
      "10110101101\n"
     ]
    }
   ],
   "source": [
    "num= 1453\n",
    "x=bin(num)[2:]\n",
    "print(x)"
   ]
  },
  {
   "cell_type": "code",
   "execution_count": 33,
   "id": "f8ea532e",
   "metadata": {},
   "outputs": [
    {
     "name": "stdout",
     "output_type": "stream",
     "text": [
      "1453\n"
     ]
    }
   ],
   "source": [
    "#dec: bin to dec\n",
    "y=int(x,2)\n",
    "print(y)"
   ]
  },
  {
   "cell_type": "code",
   "execution_count": 34,
   "id": "294bb3a2",
   "metadata": {},
   "outputs": [
    {
     "name": "stdout",
     "output_type": "stream",
     "text": [
      "0x5ad\n"
     ]
    }
   ],
   "source": [
    "y=hex(num)\n",
    "print(y)"
   ]
  },
  {
   "cell_type": "code",
   "execution_count": 38,
   "id": "52bf0521",
   "metadata": {},
   "outputs": [
    {
     "data": {
      "text/plain": [
       "16"
      ]
     },
     "execution_count": 38,
     "metadata": {},
     "output_type": "execute_result"
    }
   ],
   "source": [
    "pow(2,4)"
   ]
  },
  {
   "cell_type": "code",
   "execution_count": 39,
   "id": "6c5d1efc",
   "metadata": {},
   "outputs": [
    {
     "data": {
      "text/plain": [
       "16"
      ]
     },
     "execution_count": 39,
     "metadata": {},
     "output_type": "execute_result"
    }
   ],
   "source": [
    "2**4"
   ]
  },
  {
   "cell_type": "code",
   "execution_count": 40,
   "id": "2d7058e4",
   "metadata": {},
   "outputs": [
    {
     "data": {
      "text/plain": [
       "1"
      ]
     },
     "execution_count": 40,
     "metadata": {},
     "output_type": "execute_result"
    }
   ],
   "source": [
    "pow(2,4,3) #3 treated as mode 16/3 and Remainder 1"
   ]
  },
  {
   "cell_type": "code",
   "execution_count": 41,
   "id": "62c38728",
   "metadata": {},
   "outputs": [
    {
     "data": {
      "text/plain": [
       "3"
      ]
     },
     "execution_count": 41,
     "metadata": {},
     "output_type": "execute_result"
    }
   ],
   "source": [
    "abs(-3) #absolute number"
   ]
  },
  {
   "cell_type": "code",
   "execution_count": 42,
   "id": "165b2658",
   "metadata": {},
   "outputs": [
    {
     "data": {
      "text/plain": [
       "4"
      ]
     },
     "execution_count": 42,
     "metadata": {},
     "output_type": "execute_result"
    }
   ],
   "source": [
    "round(4.5)"
   ]
  },
  {
   "cell_type": "code",
   "execution_count": 44,
   "id": "caa9d787",
   "metadata": {},
   "outputs": [
    {
     "data": {
      "text/plain": [
       "3.142"
      ]
     },
     "execution_count": 44,
     "metadata": {},
     "output_type": "execute_result"
    }
   ],
   "source": [
    "round(3.141592,3) # 3 shows how much decimal point to consider"
   ]
  },
  {
   "cell_type": "code",
   "execution_count": null,
   "id": "3b857029",
   "metadata": {},
   "outputs": [],
   "source": []
  }
 ],
 "metadata": {
  "kernelspec": {
   "display_name": "Python 3 (ipykernel)",
   "language": "python",
   "name": "python3"
  },
  "language_info": {
   "codemirror_mode": {
    "name": "ipython",
    "version": 3
   },
   "file_extension": ".py",
   "mimetype": "text/x-python",
   "name": "python",
   "nbconvert_exporter": "python",
   "pygments_lexer": "ipython3",
   "version": "3.9.12"
  }
 },
 "nbformat": 4,
 "nbformat_minor": 5
}
